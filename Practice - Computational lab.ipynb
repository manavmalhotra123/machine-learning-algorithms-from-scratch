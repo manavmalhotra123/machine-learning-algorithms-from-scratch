{
 "cells": [
  {
   "cell_type": "markdown",
   "id": "e9e6fef8",
   "metadata": {},
   "source": [
    "# Practice"
   ]
  },
  {
   "cell_type": "markdown",
   "id": "e104bf26",
   "metadata": {},
   "source": [
    "# ALL ABOUT SIMPLE LINEAR REGRESSION USING USER DEFINED FUNCTIONS"
   ]
  },
  {
   "cell_type": "code",
   "execution_count": 2,
   "id": "fb5e7faa",
   "metadata": {},
   "outputs": [],
   "source": [
    "import numpy as np\n",
    "import pandas as pd\n",
    "import matplotlib.pyplot as plt\n"
   ]
  },
  {
   "cell_type": "code",
   "execution_count": 3,
   "id": "e19a5abe",
   "metadata": {},
   "outputs": [
    {
     "data": {
      "text/plain": [
       "array([0, 1, 2, 3, 4, 5, 6, 7, 8, 9])"
      ]
     },
     "execution_count": 3,
     "metadata": {},
     "output_type": "execute_result"
    }
   ],
   "source": [
    "X = np.array([0,1,2,3,4,5,6,7,8,9])\n",
    "X"
   ]
  },
  {
   "cell_type": "code",
   "execution_count": 4,
   "id": "48f593ab",
   "metadata": {},
   "outputs": [
    {
     "data": {
      "text/plain": [
       "array([ 3,  4,  6,  2,  7, 18, 23, 12, 13, 16])"
      ]
     },
     "execution_count": 4,
     "metadata": {},
     "output_type": "execute_result"
    }
   ],
   "source": [
    "y = np.array([3,4,6,2,7,18,23,12,13,16])\n",
    "y"
   ]
  },
  {
   "cell_type": "code",
   "execution_count": 5,
   "id": "ad595b05",
   "metadata": {},
   "outputs": [],
   "source": [
    "# mean of the values\n",
    "def mean(a):\n",
    "    return (sum(a)/len(a)) \n",
    "\n",
    "# intercept and slope of line \n",
    "def slope_and_intercept(x,y):\n",
    "    x_mean = mean(x)\n",
    "    y_mean = mean(y)\n",
    "    \n",
    "    slope = (sum((x - x_mean )*(y - y_mean)))/ (sum((x - x_mean)**2))\n",
    "    intercept = y_mean - x_mean*slope\n",
    "    return slope,intercept\n",
    "\n",
    "# finding the prediction \n",
    "def y_prediction(x,y):\n",
    "    b = slope_and_intercept(x,y)\n",
    "    y_pred = b[1] + b[0]*x\n",
    "    return y_pred\n",
    "\n",
    "# plotting the regression line and scatter plot\n",
    "def plotting(x,y):\n",
    "    \n",
    "    plt.scatter(x,y,color='red') # the original data on scatter\n",
    "    \n",
    "    y_pred = y_prediction(x,y)\n",
    "    \n",
    "    plt.plot(x,y_pred,color = 'blue')\n",
    "    \n",
    "    plt.title(\"Simple Linear Regression\")\n",
    "    plt.xlabel(\"X - values\")\n",
    "    plt.ylabel(\"Y - values\")\n",
    "    \n",
    "    plt.show()\n",
    "    \n",
    "\n",
    "# value of SST \n",
    "def SST(y):\n",
    "    y_mean = mean(y)\n",
    "    SST_value = sum((y - y_mean)**2)\n",
    "    return SST_value\n",
    "\n",
    "# value of SSE\n",
    "def SSE(x,y):\n",
    "    y_pred = y_prediction(x,y)\n",
    "    SSE_value = sum((y_pred - y )**2)\n",
    "    return SSE_value\n",
    "\n",
    "# value of SSR\n",
    "def SSR(x,y):\n",
    "    y_pred = y_prediction(x,y)\n",
    "    y_mean = mean(y)\n",
    "    SSR_value = sum((y_pred -  y_mean)**2)\n",
    "    return SSR_value\n",
    "\n",
    "# value of R \n",
    "def R(x,y):\n",
    "    SSR_val = SSR(x,y)\n",
    "    SST_val = SST(y)\n",
    "    r_value = 1 - (SSR_val / SST_val)\n",
    "    return r_value\n",
    "\n",
    "# value of VIF\n",
    "def VIF(x,y):\n",
    "    r = R(x,y)\n",
    "    VIF_val = 1 / (1-r)\n",
    "    return VIF_val \n",
    "\n",
    "\n",
    "    \n",
    "    \n"
   ]
  },
  {
   "cell_type": "code",
   "execution_count": 6,
   "id": "08094aa8",
   "metadata": {},
   "outputs": [
    {
     "name": "stdout",
     "output_type": "stream",
     "text": [
      "The value of slope is 1.7212121212121212\n",
      "The value of intercept isc 2.654545454545455\n"
     ]
    }
   ],
   "source": [
    "# finding the values of intercept and slope \n",
    "s,l = slope_and_intercept(X,y)\n",
    "print(f\"The value of slope is {s}\")\n",
    "print(f\"The value of intercept isc {l}\")"
   ]
  },
  {
   "cell_type": "code",
   "execution_count": 7,
   "id": "1aca9238",
   "metadata": {},
   "outputs": [
    {
     "name": "stdout",
     "output_type": "stream",
     "text": [
      "The predicted values of y are [ 2.65454545  4.37575758  6.0969697   7.81818182  9.53939394 11.26060606\n",
      " 12.98181818 14.7030303  16.42424242 18.14545455]\n"
     ]
    }
   ],
   "source": [
    "# Values of y predicted \n",
    "y_pred = y_prediction(X,y)\n",
    "print(f\"The predicted values of y are {y_pred}\")"
   ]
  },
  {
   "cell_type": "code",
   "execution_count": 8,
   "id": "00002fd1",
   "metadata": {},
   "outputs": [
    {
     "data": {
      "image/png": "[encoded data removed]",
      "text/plain": [
       "<Figure size 432x288 with 1 Axes>"
      ]
     },
     "metadata": {
      "needs_background": "light"
     },
     "output_type": "display_data"
    }
   ],
   "source": [
    "# plotting the graph \n",
    "plotting(X,y)"
   ]
  },
  {
   "cell_type": "code",
   "execution_count": 9,
   "id": "c4e1c741",
   "metadata": {},
   "outputs": [
    {
     "name": "stdout",
     "output_type": "stream",
     "text": [
      "MODEL PARAMETERS\n",
      "        1. SSR = 244.41212121212118\n",
      "        2. SST = 454.40000000000003\n",
      "        3. SSE = 209.98787878787877\n",
      "The value of coefficient of determination = 0.46212121212121227\n",
      "The value of VIF is 1.8591549295774652\n"
     ]
    }
   ],
   "source": [
    "print(f'''MODEL PARAMETERS\n",
    "        1. SSR = {SSR(X,y)}\n",
    "        2. SST = {SST(y)}\n",
    "        3. SSE = {SSE(X,y)}''')\n",
    "print(f'The value of coefficient of determination = {R(X,y)}')\n",
    "print(f'The value of VIF is {VIF(X,y)}')\n"
   ]
  },
  {
   "cell_type": "markdown",
   "id": "4bc49d99",
   "metadata": {},
   "source": [
    "# ALL ABOUT THE SIMPLE LINEAR REGRESSION USING INBUILT FUNCTION "
   ]
  },
  {
   "cell_type": "code",
   "execution_count": 10,
   "id": "e60f2784",
   "metadata": {},
   "outputs": [
    {
     "data": {
      "text/html": [
       "<style>#sk-container-id-1 {color: black;background-color: white;}#sk-container-id-1 pre{padding: 0;}#sk-container-id-1 div.sk-toggleable {background-color: white;}#sk-container-id-1 label.sk-toggleable__label {cursor: pointer;display: block;width: 100%;margin-bottom: 0;padding: 0.3em;box-sizing: border-box;text-align: center;}#sk-container-id-1 label.sk-toggleable__label-arrow:before {content: \"▸\";float: left;margin-right: 0.25em;color: #696969;}#sk-container-id-1 label.sk-toggleable__label-arrow:hover:before {color: black;}#sk-container-id-1 div.sk-estimator:hover label.sk-toggleable__label-arrow:before {color: black;}#sk-container-id-1 div.sk-toggleable__content {max-height: 0;max-width: 0;overflow: hidden;text-align: left;background-color: #f0f8ff;}#sk-container-id-1 div.sk-toggleable__content pre {margin: 0.2em;color: black;border-radius: 0.25em;background-color: #f0f8ff;}#sk-container-id-1 input.sk-toggleable__control:checked~div.sk-toggleable__content {max-height: 200px;max-width: 100%;overflow: auto;}#sk-container-id-1 input.sk-toggleable__control:checked~label.sk-toggleable__label-arrow:before {content: \"▾\";}#sk-container-id-1 div.sk-estimator input.sk-toggleable__control:checked~label.sk-toggleable__label {background-color: #d4ebff;}#sk-container-id-1 div.sk-label input.sk-toggleable__control:checked~label.sk-toggleable__label {background-color: #d4ebff;}#sk-container-id-1 input.sk-hidden--visually {border: 0;clip: rect(1px 1px 1px 1px);clip: rect(1px, 1px, 1px, 1px);height: 1px;margin: -1px;overflow: hidden;padding: 0;position: absolute;width: 1px;}#sk-container-id-1 div.sk-estimator {font-family: monospace;background-color: #f0f8ff;border: 1px dotted black;border-radius: 0.25em;box-sizing: border-box;margin-bottom: 0.5em;}#sk-container-id-1 div.sk-estimator:hover {background-color: #d4ebff;}#sk-container-id-1 div.sk-parallel-item::after {content: \"\";width: 100%;border-bottom: 1px solid gray;flex-grow: 1;}#sk-container-id-1 div.sk-label:hover label.sk-toggleable__label {background-color: #d4ebff;}#sk-container-id-1 div.sk-serial::before {content: \"\";position: absolute;border-left: 1px solid gray;box-sizing: border-box;top: 0;bottom: 0;left: 50%;z-index: 0;}#sk-container-id-1 div.sk-serial {display: flex;flex-direction: column;align-items: center;background-color: white;padding-right: 0.2em;padding-left: 0.2em;position: relative;}#sk-container-id-1 div.sk-item {position: relative;z-index: 1;}#sk-container-id-1 div.sk-parallel {display: flex;align-items: stretch;justify-content: center;background-color: white;position: relative;}#sk-container-id-1 div.sk-item::before, #sk-container-id-1 div.sk-parallel-item::before {content: \"\";position: absolute;border-left: 1px solid gray;box-sizing: border-box;top: 0;bottom: 0;left: 50%;z-index: -1;}#sk-container-id-1 div.sk-parallel-item {display: flex;flex-direction: column;z-index: 1;position: relative;background-color: white;}#sk-container-id-1 div.sk-parallel-item:first-child::after {align-self: flex-end;width: 50%;}#sk-container-id-1 div.sk-parallel-item:last-child::after {align-self: flex-start;width: 50%;}#sk-container-id-1 div.sk-parallel-item:only-child::after {width: 0;}#sk-container-id-1 div.sk-dashed-wrapped {border: 1px dashed gray;margin: 0 0.4em 0.5em 0.4em;box-sizing: border-box;padding-bottom: 0.4em;background-color: white;}#sk-container-id-1 div.sk-label label {font-family: monospace;font-weight: bold;display: inline-block;line-height: 1.2em;}#sk-container-id-1 div.sk-label-container {text-align: center;}#sk-container-id-1 div.sk-container {/* jupyter's `normalize.less` sets `[hidden] { display: none; }` but bootstrap.min.css set `[hidden] { display: none !important; }` so we also need the `!important` here to be able to override the default hidden behavior on the sphinx rendered scikit-learn.org. See: https://github.com/scikit-learn/scikit-learn/issues/21755 */display: inline-block !important;position: relative;}#sk-container-id-1 div.sk-text-repr-fallback {display: none;}</style><div id=\"sk-container-id-1\" class=\"sk-top-container\"><div class=\"sk-text-repr-fallback\"><pre>LinearRegression()</pre><b>In a Jupyter environment, please rerun this cell to show the HTML representation or trust the notebook. <br />On GitHub, the HTML representation is unable to render, please try loading this page with nbviewer.org.</b></div><div class=\"sk-container\" hidden><div class=\"sk-item\"><div class=\"sk-estimator sk-toggleable\"><input class=\"sk-toggleable__control sk-hidden--visually\" id=\"sk-estimator-id-1\" type=\"checkbox\" checked><label for=\"sk-estimator-id-1\" class=\"sk-toggleable__label sk-toggleable__label-arrow\">LinearRegression</label><div class=\"sk-toggleable__content\"><pre>LinearRegression()</pre></div></div></div></div></div>"
      ],
      "text/plain": [
       "LinearRegression()"
      ]
     },
     "execution_count": 10,
     "metadata": {},
     "output_type": "execute_result"
    }
   ],
   "source": [
    "from sklearn.linear_model import LinearRegression\n",
    "regressor = LinearRegression()\n",
    "regressor"
   ]
  },
  {
   "cell_type": "code",
   "execution_count": 11,
   "id": "49ea5208",
   "metadata": {},
   "outputs": [
    {
     "data": {
      "text/html": [
       "<style>#sk-container-id-2 {color: black;background-color: white;}#sk-container-id-2 pre{padding: 0;}#sk-container-id-2 div.sk-toggleable {background-color: white;}#sk-container-id-2 label.sk-toggleable__label {cursor: pointer;display: block;width: 100%;margin-bottom: 0;padding: 0.3em;box-sizing: border-box;text-align: center;}#sk-container-id-2 label.sk-toggleable__label-arrow:before {content: \"▸\";float: left;margin-right: 0.25em;color: #696969;}#sk-container-id-2 label.sk-toggleable__label-arrow:hover:before {color: black;}#sk-container-id-2 div.sk-estimator:hover label.sk-toggleable__label-arrow:before {color: black;}#sk-container-id-2 div.sk-toggleable__content {max-height: 0;max-width: 0;overflow: hidden;text-align: left;background-color: #f0f8ff;}#sk-container-id-2 div.sk-toggleable__content pre {margin: 0.2em;color: black;border-radius: 0.25em;background-color: #f0f8ff;}#sk-container-id-2 input.sk-toggleable__control:checked~div.sk-toggleable__content {max-height: 200px;max-width: 100%;overflow: auto;}#sk-container-id-2 input.sk-toggleable__control:checked~label.sk-toggleable__label-arrow:before {content: \"▾\";}#sk-container-id-2 div.sk-estimator input.sk-toggleable__control:checked~label.sk-toggleable__label {background-color: #d4ebff;}#sk-container-id-2 div.sk-label input.sk-toggleable__control:checked~label.sk-toggleable__label {background-color: #d4ebff;}#sk-container-id-2 input.sk-hidden--visually {border: 0;clip: rect(1px 1px 1px 1px);clip: rect(1px, 1px, 1px, 1px);height: 1px;margin: -1px;overflow: hidden;padding: 0;position: absolute;width: 1px;}#sk-container-id-2 div.sk-estimator {font-family: monospace;background-color: #f0f8ff;border: 1px dotted black;border-radius: 0.25em;box-sizing: border-box;margin-bottom: 0.5em;}#sk-container-id-2 div.sk-estimator:hover {background-color: #d4ebff;}#sk-container-id-2 div.sk-parallel-item::after {content: \"\";width: 100%;border-bottom: 1px solid gray;flex-grow: 1;}#sk-container-id-2 div.sk-label:hover label.sk-toggleable__label {background-color: #d4ebff;}#sk-container-id-2 div.sk-serial::before {content: \"\";position: absolute;border-left: 1px solid gray;box-sizing: border-box;top: 0;bottom: 0;left: 50%;z-index: 0;}#sk-container-id-2 div.sk-serial {display: flex;flex-direction: column;align-items: center;background-color: white;padding-right: 0.2em;padding-left: 0.2em;position: relative;}#sk-container-id-2 div.sk-item {position: relative;z-index: 1;}#sk-container-id-2 div.sk-parallel {display: flex;align-items: stretch;justify-content: center;background-color: white;position: relative;}#sk-container-id-2 div.sk-item::before, #sk-container-id-2 div.sk-parallel-item::before {content: \"\";position: absolute;border-left: 1px solid gray;box-sizing: border-box;top: 0;bottom: 0;left: 50%;z-index: -1;}#sk-container-id-2 div.sk-parallel-item {display: flex;flex-direction: column;z-index: 1;position: relative;background-color: white;}#sk-container-id-2 div.sk-parallel-item:first-child::after {align-self: flex-end;width: 50%;}#sk-container-id-2 div.sk-parallel-item:last-child::after {align-self: flex-start;width: 50%;}#sk-container-id-2 div.sk-parallel-item:only-child::after {width: 0;}#sk-container-id-2 div.sk-dashed-wrapped {border: 1px dashed gray;margin: 0 0.4em 0.5em 0.4em;box-sizing: border-box;padding-bottom: 0.4em;background-color: white;}#sk-container-id-2 div.sk-label label {font-family: monospace;font-weight: bold;display: inline-block;line-height: 1.2em;}#sk-container-id-2 div.sk-label-container {text-align: center;}#sk-container-id-2 div.sk-container {/* jupyter's `normalize.less` sets `[hidden] { display: none; }` but bootstrap.min.css set `[hidden] { display: none !important; }` so we also need the `!important` here to be able to override the default hidden behavior on the sphinx rendered scikit-learn.org. See: https://github.com/scikit-learn/scikit-learn/issues/21755 */display: inline-block !important;position: relative;}#sk-container-id-2 div.sk-text-repr-fallback {display: none;}</style><div id=\"sk-container-id-2\" class=\"sk-top-container\"><div class=\"sk-text-repr-fallback\"><pre>LinearRegression()</pre><b>In a Jupyter environment, please rerun this cell to show the HTML representation or trust the notebook. <br />On GitHub, the HTML representation is unable to render, please try loading this page with nbviewer.org.</b></div><div class=\"sk-container\" hidden><div class=\"sk-item\"><div class=\"sk-estimator sk-toggleable\"><input class=\"sk-toggleable__control sk-hidden--visually\" id=\"sk-estimator-id-2\" type=\"checkbox\" checked><label for=\"sk-estimator-id-2\" class=\"sk-toggleable__label sk-toggleable__label-arrow\">LinearRegression</label><div class=\"sk-toggleable__content\"><pre>LinearRegression()</pre></div></div></div></div></div>"
      ],
      "text/plain": [
       "LinearRegression()"
      ]
     },
     "execution_count": 11,
     "metadata": {},
     "output_type": "execute_result"
    }
   ],
   "source": [
    "regressor.fit(X.reshape(-1,1),y)\n"
   ]
  },
  {
   "cell_type": "code",
   "execution_count": 12,
   "id": "4e7692be",
   "metadata": {},
   "outputs": [
    {
     "data": {
      "text/plain": [
       "2.654545454545455"
      ]
     },
     "execution_count": 12,
     "metadata": {},
     "output_type": "execute_result"
    }
   ],
   "source": [
    "regressor.intercept_"
   ]
  },
  {
   "cell_type": "code",
   "execution_count": 13,
   "id": "54f0949b",
   "metadata": {},
   "outputs": [
    {
     "data": {
      "text/plain": [
       "array([1.72121212])"
      ]
     },
     "execution_count": 13,
     "metadata": {},
     "output_type": "execute_result"
    }
   ],
   "source": [
    "regressor.coef_"
   ]
  },
  {
   "cell_type": "markdown",
   "id": "fca896a3",
   "metadata": {},
   "source": [
    "# CONFUSION MATRIX "
   ]
  },
  {
   "cell_type": "code",
   "execution_count": 14,
   "id": "33b3931b",
   "metadata": {},
   "outputs": [],
   "source": [
    "actual = [1, 3, 3, 2, 5, 5, 3, 2, 1, 4, 3, 2, 1, 1, 2]\n",
    "predicted = [1, 2, 3, 4, 2, 3, 3, 2, 1, 2, 3, 1, 5, 1, 1]"
   ]
  },
  {
   "cell_type": "code",
   "execution_count": 15,
   "id": "94a98bbd",
   "metadata": {},
   "outputs": [],
   "source": [
    "# function to compute the confusion matrix \n",
    "\n",
    "def confusionmatrix(actual,predicted):\n",
    "    \n",
    "    # the classes during making of confusion matrix should be unique \n",
    "    classes = np.unique(actual)\n",
    "    \n",
    "    # creating a null matrix \n",
    "    confusion_matrix = np.zeros((len(classes),len(classes)))\n",
    "    \n",
    "    # looping around the actual to predicted with nested loop to cover each combination\n",
    "    for i in range(len(classes)):\n",
    "        for j in range(len(classes)):\n",
    "            \n",
    "            confusion_matrix[i,j] = np.sum((actual == classes[i]) & (predicted == classes[j]))\n",
    "            \n",
    "    return confusion_matrix "
   ]
  },
  {
   "cell_type": "code",
   "execution_count": 16,
   "id": "556021c8",
   "metadata": {},
   "outputs": [
    {
     "data": {
      "text/plain": [
       "array([[3., 0., 0., 0., 1.],\n",
       "       [2., 1., 0., 1., 0.],\n",
       "       [0., 1., 3., 0., 0.],\n",
       "       [0., 1., 0., 0., 0.],\n",
       "       [0., 1., 1., 0., 0.]])"
      ]
     },
     "execution_count": 16,
     "metadata": {},
     "output_type": "execute_result"
    }
   ],
   "source": [
    "\n",
    "confusionmatrix(actual,predicted)"
   ]
  },
  {
   "cell_type": "code",
   "execution_count": 17,
   "id": "1a8653f3",
   "metadata": {},
   "outputs": [
    {
     "data": {
      "text/plain": [
       "array([[3, 0, 0, 0, 1],\n",
       "       [2, 1, 0, 1, 0],\n",
       "       [0, 1, 3, 0, 0],\n",
       "       [0, 1, 0, 0, 0],\n",
       "       [0, 1, 1, 0, 0]], dtype=int64)"
      ]
     },
     "execution_count": 17,
     "metadata": {},
     "output_type": "execute_result"
    }
   ],
   "source": [
    "# finding the confusion matrix using sklearn\n",
    "\n",
    "from sklearn.metrics import confusion_matrix\n",
    "cm = confusion_matrix(actual,predicted)\n",
    "cm"
   ]
  },
  {
   "cell_type": "code",
   "execution_count": 18,
   "id": "1722f94c",
   "metadata": {},
   "outputs": [
    {
     "data": {
      "text/plain": [
       "15"
      ]
     },
     "execution_count": 18,
     "metadata": {},
     "output_type": "execute_result"
    }
   ],
   "source": [
    "total_sum = 0\n",
    "tot_sum = 0\n",
    "for i in range(0, len(cm)):\n",
    "  for j in range(0, len(cm)): \n",
    "    tot_sum += cm[i][j]\n",
    "tot_sum"
   ]
  },
  {
   "cell_type": "code",
   "execution_count": 19,
   "id": "6ec0a5b4",
   "metadata": {},
   "outputs": [],
   "source": [
    "# Hence we've a case of multi class classification\n",
    "def params(mat, n):\n",
    "  col_sum = [sum([row[i] for row in mat]) for i in range(0,len(mat[0]))]\n",
    "  row_sum = [sum(mat[i]) for i in range(len(mat))]\n",
    "  tp = mat[n][n]\n",
    "  fp = row_sum[n] - tp\n",
    "  fn = col_sum[n] - tp\n",
    "  tn = tot_sum - fp - fn - tp\n",
    "  param = []\n",
    "  accuracy = (tp + tn) / (tp + tn + fp + fn)\n",
    "  param.append(accuracy)\n",
    "  precision = tp / (tp + fp)\n",
    "  param.append(precision)\n",
    "  recall = tp / (tp + fn)\n",
    "  param.append(recall)\n",
    "  f1_score = (2 * precision * recall) / (precision + recall)\n",
    "  param.append(f1_score)\n",
    "  return param"
   ]
  },
  {
   "cell_type": "code",
   "execution_count": 20,
   "id": "878e98a8",
   "metadata": {},
   "outputs": [
    {
     "name": "stdout",
     "output_type": "stream",
     "text": [
      "For the class 1, the values are as follows: \n",
      "Accuracy: 0.8\n",
      "Precision: 0.75\n",
      "Recall: 0.6\n",
      "F1-Score: 0.6666666666666665\n",
      "*********************\n",
      "For the class 2, the values are as follows: \n",
      "Accuracy: 0.6\n",
      "Precision: 0.25\n",
      "Recall: 0.25\n",
      "F1-Score: 0.25\n",
      "*********************\n",
      "For the class 3, the values are as follows: \n",
      "Accuracy: 0.8666666666666667\n",
      "Precision: 0.75\n",
      "Recall: 0.75\n",
      "F1-Score: 0.75\n",
      "*********************\n",
      "For the class 4, the values are as follows: \n",
      "Accuracy: 0.8666666666666667\n",
      "Precision: 0.0\n",
      "Recall: 0.0\n",
      "F1-Score: nan\n",
      "*********************\n",
      "For the class 5, the values are as follows: \n",
      "Accuracy: 0.8\n",
      "Precision: 0.0\n",
      "Recall: 0.0\n",
      "F1-Score: nan\n",
      "*********************\n"
     ]
    },
    {
     "name": "stderr",
     "output_type": "stream",
     "text": [
      "C:\\Users\\manav\\AppData\\Local\\Temp\\ipykernel_20176\\647758938.py:16: RuntimeWarning: invalid value encountered in double_scalars\n",
      "  f1_score = (2 * precision * recall) / (precision + recall)\n"
     ]
    }
   ],
   "source": [
    "for i in range(len(cm)):\n",
    "  print(f\"For the class {i+1}, the values are as follows: \")\n",
    "  print(f\"Accuracy: {params(cm,i)[0]}\")\n",
    "  print(f\"Precision: {params(cm,i)[1]}\")\n",
    "  print(f\"Recall: {params(cm,i)[2]}\")\n",
    "  print(f\"F1-Score: {params(cm,i)[3]}\")\n",
    "  print(\"*********************\")"
   ]
  },
  {
   "cell_type": "markdown",
   "id": "d7c444d9",
   "metadata": {},
   "source": [
    "# Gradient Descent "
   ]
  },
  {
   "cell_type": "markdown",
   "id": "413fb378",
   "metadata": {},
   "source": [
    "here we have to minimize to error in the model to find the optimum value of model"
   ]
  },
  {
   "cell_type": "code",
   "execution_count": 39,
   "id": "30f82e82",
   "metadata": {},
   "outputs": [],
   "source": [
    "\n",
    "def mean_squared_error(y_true, y_predicted):\n",
    "     \n",
    "    # Calculating the loss or cost\n",
    "    cost = np.sum((y_true-y_predicted)**2) / len(y_true)\n",
    "    return cost\n",
    " \n",
    "# Gradient Descent Function\n",
    "# Here iterations, learning_rate, stopping_threshold\n",
    "# are hyperparameters that can be tuned\n",
    "def gradient_descent(x, y, iterations = 1000, learning_rate = 0.001,\n",
    "                     epsilon = 0.1):\n",
    "     \n",
    "    # Initializing weight, bias, learning rate and iterations\n",
    "    current_weight = 0\n",
    "    current_bias = 0\n",
    "    iterations = iterations\n",
    "    learning_rate = learning_rate\n",
    "    n = float(len(x))\n",
    "     \n",
    "    costs = []\n",
    "    weights = []\n",
    "    previous_cost = None\n",
    "     \n",
    "    # Estimation of optimal parameters\n",
    "    for i in range(iterations):\n",
    "         \n",
    "        # Making predictions\n",
    "        y_predicted = (current_weight * x) + current_bias\n",
    "         \n",
    "        # Calculationg the current cost\n",
    "        current_cost = mean_squared_error(y, y_predicted)\n",
    " \n",
    "        # If the change in cost is less than or equal to\n",
    "        # stopping_threshold we stop the gradient descent\n",
    "        if previous_cost and abs(previous_cost-current_cost)<=epsilon:\n",
    "            break\n",
    "         \n",
    "        previous_cost = current_cost\n",
    " \n",
    "        costs.append(current_cost)\n",
    "        weights.append(current_weight)\n",
    "         \n",
    "        # Calculating the gradients\n",
    "        weight_derivative = -(2/n) * sum(x * (y-y_predicted))\n",
    "        bias_derivative = -(2/n) * sum(y-y_predicted)\n",
    "         \n",
    "        # Updating weights and bias\n",
    "        current_weight = current_weight - (learning_rate * weight_derivative)\n",
    "        current_bias = current_bias - (learning_rate * bias_derivative)\n",
    "                 \n",
    "        # Printing the parameters for each 1000th iteration\n",
    "        print(f\"Iteration {i+1}: Cost {current_cost}, Weight \\\n",
    "        {current_weight}, Bias {current_bias}\")\n",
    "     \n",
    "     \n",
    "    # Visualizing the weights and cost at for all iterations\n",
    "    plt.figure(figsize = (8,6))\n",
    "    plt.plot(weights, costs)\n",
    "    plt.scatter(weights, costs, marker='o', color='red')\n",
    "    plt.title(\"Cost vs Weights\")\n",
    "    plt.ylabel(\"Cost\")\n",
    "    plt.xlabel(\"Weight\")\n",
    "    plt.show()\n",
    "     \n",
    "    return current_weight, current_bias"
   ]
  },
  {
   "cell_type": "code",
   "execution_count": 37,
   "id": "9e91362c",
   "metadata": {},
   "outputs": [],
   "source": [
    "# Data\n",
    "X = np.array([2,3,5,13,8,16,11,2])\n",
    "Y = np.array([15,28,42,64,50,90,58,8])"
   ]
  },
  {
   "cell_type": "code",
   "execution_count": 40,
   "id": "b9b2708a",
   "metadata": {},
   "outputs": [
    {
     "name": "stdout",
     "output_type": "stream",
     "text": [
      "Iteration 1: Cost 2612.125, Weight         0.9125, Bias 0.08875\n",
      "Iteration 2: Cost 1840.6763140624998, Weight         1.67493125, Bias 0.163635\n",
      "Iteration 3: Cost 1302.005232581096, Weight         2.31196293125, Bias 0.22693376124999998\n",
      "Iteration 4: Cost 925.871456044458, Weight         2.8442089670375, Bias 0.28055044975875\n",
      "Iteration 5: Cost 663.2295941170923, Weight         3.288894648664006, Bias 0.32607621435366996\n",
      "Iteration 6: Cost 479.83363233031446, Weight         3.660413677716468, Bias 0.3648406421950025\n",
      "Iteration 7: Cost 351.7712417354, Weight         3.9707936386157585, Bias 0.3979547557448655\n",
      "Iteration 8: Cost 262.3456041853296, Weight         4.230084954185217, Bias 0.4263469416541394\n",
      "Iteration 9: Cost 199.89814234552153, Weight         4.446685902528214, Bias 0.45079297345805286\n",
      "Iteration 10: Cost 156.28823778710944, Weight         4.627614205814245, Bias 0.4719410989732135\n",
      "Iteration 11: Cost 125.83169195535433, Weight         4.778733973781925, Bias 0.49033300368805344\n",
      "Iteration 12: Cost 104.55950501151743, Weight         4.9049453410001504, Bias 0.5064213280739485\n",
      "Iteration 13: Cost 89.70031709134449, Weight         5.010342930496017, Bias 0.5205843053027983\n",
      "Iteration 14: Cost 79.31902216817494, Weight         5.0983482682456245, Bias 0.5331379927347525\n",
      "Iteration 15: Cost 72.06442966222062, Weight         5.171820430630566, Bias 0.5443464927255987\n",
      "Iteration 16: Cost 66.99306879570969, Weight         5.2331485030469, Bias 0.5544304932806889\n",
      "Iteration 17: Cost 63.44615973002679, Weight         5.284328839651045, Bias 0.563574404748424\n",
      "Iteration 18: Cost 60.963708484977786, Weight         5.327029622716698, Bias 0.5719323233441614\n",
      "Iteration 19: Cost 59.22452359240586, Weight         5.362644809363714, Bias 0.5796330143567227\n",
      "Iteration 20: Cost 58.00433263816305, Weight         5.392339210222078, Bias 0.5867840761875535\n",
      "Iteration 21: Cost 57.14653707720183, Weight         5.417086157813066, Bias 0.5934754198818472\n",
      "Iteration 22: Cost 56.54179174107999, Weight         5.437698982791309, Bias 0.5997821766748874\n",
      "Iteration 23: Cost 56.11374619965744, Weight         5.454857315946202, Bias 0.605767127579668\n",
      "Iteration 24: Cost 55.80908864635821, Weight         5.469129066533276, Bias 0.6114827335853157\n",
      "Iteration 25: Cost 55.590594026712125, Weight         5.480988787684573, Bias 0.6169728321201459\n",
      "Iteration 26: Cost 55.432269884092705, Weight         5.490833022810185, Bias 0.622274054640637\n",
      "Iteration 27: Cost 55.31596693951149, Weight         5.498993129272515, Bias 0.627417011189203\n"
     ]
    },
    {
     "data": {
      "image/png": "[encoded data removed]",
      "text/plain": [
       "<Figure size 576x432 with 1 Axes>"
      ]
     },
     "metadata": {
      "needs_background": "light"
     },
     "output_type": "display_data"
    },
    {
     "name": "stdout",
     "output_type": "stream",
     "text": [
      "Estimated Weight: 5.498993129272515\n",
      "Estimated Bias: 0.627417011189203\n"
     ]
    }
   ],
   "source": [
    "estimated_weight, estimated_bias = gradient_descent(X, Y, iterations=2000)\n",
    "print(f\"Estimated Weight: {estimated_weight}\\nEstimated Bias: {estimated_bias}\")\n",
    "\n",
    " "
   ]
  }
 ],
 "metadata": {
  "kernelspec": {
   "display_name": "Python 3.10.5 64-bit",
   "language": "python",
   "name": "python3"
  },
  "language_info": {
   "codemirror_mode": {
    "name": "ipython",
    "version": 3
   },
   "file_extension": ".py",
   "mimetype": "text/x-python",
   "name": "python",
   "nbconvert_exporter": "python",
   "pygments_lexer": "ipython3",
   "version": "3.10.5"
  },
  "vscode": {
   "interpreter": {
    "hash": "e2611f44f806f6d4bdec6164674388ade8a86ad4e81af7ef1563613438bedb91"
   }
  }
 },
 "nbformat": 4,
 "nbformat_minor": 5
}
