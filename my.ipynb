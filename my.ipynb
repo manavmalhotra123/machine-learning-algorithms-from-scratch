{
 "cells": [
  {
   "cell_type": "code",
   "execution_count": 107,
   "metadata": {},
   "outputs": [],
   "source": [
    "# importing libraries\n",
    "import numpy as np\n",
    "import matplotlib.pyplot as plt\n",
    "import pandas as pd \n"
   ]
  },
  {
   "cell_type": "code",
   "execution_count": null,
   "metadata": {},
   "outputs": [],
   "source": []
  },
  {
   "cell_type": "code",
   "execution_count": 108,
   "metadata": {},
   "outputs": [
    {
     "data": {
      "text/plain": [
       "array([0, 1, 2, 3, 4, 5, 6, 7, 8, 9])"
      ]
     },
     "execution_count": 108,
     "metadata": {},
     "output_type": "execute_result"
    }
   ],
   "source": [
    "X = np.array([0,1,2,3,4,5,6,7,8,9])\n",
    "X"
   ]
  },
  {
   "cell_type": "code",
   "execution_count": 109,
   "metadata": {},
   "outputs": [
    {
     "data": {
      "text/plain": [
       "array([ 3,  4,  6,  2,  7, 18, 23, 12, 13, 16])"
      ]
     },
     "execution_count": 109,
     "metadata": {},
     "output_type": "execute_result"
    }
   ],
   "source": [
    "y = np.array([3,4,6,2,7,18,23,12,13,16])\n",
    "y"
   ]
  },
  {
   "cell_type": "code",
   "execution_count": 110,
   "metadata": {},
   "outputs": [],
   "source": [
    "def mean(a):\n",
    "    return ((sum(a))/len(a))\n",
    "\n",
    "def s_and_i(x,y):\n",
    "    m_x = mean(x)\n",
    "    m_y = mean(y)\n",
    "    s = (sum((x-m_x)*(y-m_y)))/(sum((x-m_x)**2))\n",
    "    i = (m_y) - (s*m_x)\n",
    "    return i,s\n",
    "\n",
    "def predict_y(x,y):\n",
    "    s,i = s_and_i(x,y)\n",
    "    y_pred = (i + (s*x))\n",
    "    return y_pred\n",
    "\n",
    "def plotting(x,y):\n",
    "    y_pred = predict_y(x,y)\n",
    "    plt.scatter(x,y,color = \"blue\")\n",
    "    plt.plot(x,y_pred,color = \"red\")\n",
    "    plt.title(\"Simple linar regression\")\n",
    "    plt.show()\n",
    "    \n",
    "    \n",
    "def SST(x,y):\n",
    "    m_y = mean(y)\n",
    "    return sum((y-m_y)**2)\n",
    "\n",
    "def SSR(x,y):\n",
    "    y_pred = predict_y(x,y)\n",
    "    y_mean = mean(y)\n",
    "    SSR_value = sum((y_pred -  y_mean)**2)\n",
    "    return SSR_value\n",
    "\n",
    "# value of SSE\n",
    "def SSE(x,y):\n",
    "    y_pred = predict_y(x,y)\n",
    "    SSE_value = sum((y_pred - y )**2)\n",
    "    return SSE_value\n",
    "\n",
    "def R(x,y):\n",
    "    SSR_val = SSR(x,y)\n",
    "    SST_val = SST(x,y)\n",
    "    r = 1 - (SSR_val/SST_val)\n",
    "    return r\n",
    "\n",
    "# value of VIF\n",
    "def VIF(x,y):\n",
    "    r = R(x,y)\n",
    "    VIF_val = 1 / (1-r)\n",
    "    return VIF_val \n",
    "\n",
    "\n",
    "    \n",
    "    "
   ]
  },
  {
   "cell_type": "code",
   "execution_count": 111,
   "metadata": {},
   "outputs": [],
   "source": [
    "# confusion matrix \n",
    "\n",
    "actual = [1, 3, 3, 2, 5, 5, 3, 2, 1, 4, 3, 2, 1, 1, 2]\n",
    "predicted = [1, 2, 3, 4, 2, 3, 3, 2, 1, 2, 3, 1, 5, 1, 1]"
   ]
  },
  {
   "cell_type": "code",
   "execution_count": 115,
   "metadata": {},
   "outputs": [],
   "source": [
    "def confusion_matrix(a,p):\n",
    "    classes = np.unique(a)\n",
    "    n = len(classes)\n",
    "    \n",
    "    matrix = np.zeros((n,n))\n",
    "    \n",
    "    \n",
    "    for i in range(n):\n",
    "        for j in range(n):\n",
    "            matrix[i][j] = np.sum((a == classes[i])&(p == classes[j]))\n",
    "    \n",
    "    return matrix"
   ]
  },
  {
   "cell_type": "code",
   "execution_count": 116,
   "metadata": {},
   "outputs": [
    {
     "data": {
      "text/plain": [
       "array([[3., 0., 0., 0., 1.],\n",
       "       [2., 1., 0., 1., 0.],\n",
       "       [0., 1., 3., 0., 0.],\n",
       "       [0., 1., 0., 0., 0.],\n",
       "       [0., 1., 1., 0., 0.]])"
      ]
     },
     "execution_count": 116,
     "metadata": {},
     "output_type": "execute_result"
    }
   ],
   "source": [
    "cm = confusion_matrix(actual, predicted)\n",
    "cm"
   ]
  },
  {
   "cell_type": "code",
   "execution_count": 117,
   "metadata": {},
   "outputs": [
    {
     "data": {
      "text/plain": [
       "15.0"
      ]
     },
     "execution_count": 117,
     "metadata": {},
     "output_type": "execute_result"
    }
   ],
   "source": [
    "total_sum = 0\n",
    "for i in range(5):\n",
    "    for j in range(5):\n",
    "        total_sum += cm[i][j]\n",
    "total_sum"
   ]
  },
  {
   "cell_type": "code",
   "execution_count": 124,
   "metadata": {},
   "outputs": [],
   "source": [
    "# Hence we've a case of multi class classification\n",
    "def params(mat, n):\n",
    "  col_sum = [sum([row[i] for row in mat]) for i in range(0,len(mat[0]))]\n",
    "  row_sum = [sum(mat[i]) for i in range(len(mat))]\n",
    "  tp = mat[n][n]\n",
    "  fp = row_sum[n] - tp\n",
    "  fn = col_sum[n] - tp\n",
    "  tn = 15 - fp - fn - tp\n",
    "  param = []\n",
    "  accuracy = (tp + tn) / (tp + tn + fp + fn)\n",
    "  param.append(accuracy)\n",
    "  precision = tp / (tp + fp)\n",
    "  param.append(precision)\n",
    "  recall = tp / (tp + fn)\n",
    "  param.append(recall)\n",
    "  f1_score = (2 * precision * recall) / (precision + recall)\n",
    "  param.append(f1_score)\n",
    "  return param"
   ]
  },
  {
   "cell_type": "code",
   "execution_count": 125,
   "metadata": {},
   "outputs": [
    {
     "name": "stdout",
     "output_type": "stream",
     "text": [
      "For the class 1, the values are as follows: \n",
      "Accuracy: 0.8\n",
      "Precision: 0.75\n",
      "Recall: 0.6\n",
      "F1-Score: 0.6666666666666665\n",
      "*********************\n",
      "For the class 2, the values are as follows: \n",
      "Accuracy: 0.6\n",
      "Precision: 0.25\n",
      "Recall: 0.25\n",
      "F1-Score: 0.25\n",
      "*********************\n",
      "For the class 3, the values are as follows: \n",
      "Accuracy: 0.8666666666666667\n",
      "Precision: 0.75\n",
      "Recall: 0.75\n",
      "F1-Score: 0.75\n",
      "*********************\n",
      "For the class 4, the values are as follows: \n",
      "Accuracy: 0.8666666666666667\n",
      "Precision: 0.0\n",
      "Recall: 0.0\n",
      "F1-Score: nan\n",
      "*********************\n",
      "For the class 5, the values are as follows: \n",
      "Accuracy: 0.8\n",
      "Precision: 0.0\n",
      "Recall: 0.0\n",
      "F1-Score: nan\n",
      "*********************\n"
     ]
    },
    {
     "name": "stderr",
     "output_type": "stream",
     "text": [
      "C:\\Users\\manav\\AppData\\Local\\Temp\\ipykernel_6856\\1798737908.py:16: RuntimeWarning: invalid value encountered in double_scalars\n",
      "  f1_score = (2 * precision * recall) / (precision + recall)\n"
     ]
    }
   ],
   "source": [
    "for i in range(len(cm)):\n",
    "  print(f\"For the class {i+1}, the values are as follows: \")\n",
    "  print(f\"Accuracy: {params(cm,i)[0]}\")\n",
    "  print(f\"Precision: {params(cm,i)[1]}\")\n",
    "  print(f\"Recall: {params(cm,i)[2]}\")\n",
    "  print(f\"F1-Score: {params(cm,i)[3]}\")\n",
    "  print(\"*********************\")"
   ]
  },
  {
   "cell_type": "markdown",
   "metadata": {},
   "source": [
    "# Gradient descent"
   ]
  },
  {
   "cell_type": "code",
   "execution_count": 130,
   "metadata": {},
   "outputs": [],
   "source": [
    "def mean_squared_error(y,y_pred):\n",
    "    cost = np.sum((y-y_pred)**2)/len(y)\n",
    "    return cost \n",
    "\n",
    "\n",
    "def gradient(x,y,learning_rate,epsilon,iterations):\n",
    "    current_weight = 0.0\n",
    "    current_bias = 0.0\n",
    "    iterations = iterations\n",
    "    learning_rate = learning_rate\n",
    "    n = float(len(x))\n",
    "    \n",
    "    costs = []\n",
    "    weights = []\n",
    "    \n",
    "    \n",
    "    \n",
    "    previous_cost = None\n",
    "    \n",
    "    for i in range(iterations):\n",
    "        y_pred = current_weight + x*current_bias\n",
    "        \n",
    "        current_cost = mean_squared_error(y,y_pred)\n",
    "        \n",
    "        if previous_cost and abs(previous_cost - current_cost)<=epsilon:\n",
    "            break\n",
    "        \n",
    "        previous_cost = current_cost\n",
    "        \n",
    "        costs.append(current_cost)\n",
    "        weights.append(current_weight)\n",
    "        \n",
    "        # calculating the gradient\n",
    "        weight_g = -(2/n) * sum(x*(y-y_pred))\n",
    "        bias_g = (-2/n) * sum(y-y_pred)\n",
    "        \n",
    "        current_weight = current_weight - learning_rate*(weight_g)\n",
    "        current_bias = current_weight - learning_rate*(bias_g)\n",
    "        \n",
    "        print(f\"iteration {i+1} :\")\n",
    "        print(f\"bias = {current_bias} and weight = {current_weight}\")\n",
    "    # Visualizing the weights and cost at for all iterations\n",
    "    plt.figure(figsize = (8,6))\n",
    "    plt.plot(weights, costs)\n",
    "    plt.scatter(weights, costs, marker='o', color='red')\n",
    "    plt.title(\"Cost vs Weights\")\n",
    "    plt.ylabel(\"Cost\")\n",
    "    plt.xlabel(\"Weight\")\n",
    "    plt.show()   \n",
    "        \n",
    "    return current_weight,current_bias"
   ]
  },
  {
   "cell_type": "code",
   "execution_count": 131,
   "metadata": {},
   "outputs": [],
   "source": [
    "# Data\n",
    "X = np.array([2,3,5,13,8,16,11,2])\n",
    "Y = np.array([15,28,42,64,50,90,58,8])"
   ]
  },
  {
   "cell_type": "code",
   "execution_count": 132,
   "metadata": {},
   "outputs": [
    {
     "name": "stdout",
     "output_type": "stream",
     "text": [
      "iteration 1 :\n",
      "bias = 1.00125 and weight = 0.9125\n",
      "iteration 2 :\n",
      "bias = 1.720015 and weight = 1.64810875\n",
      "iteration 3 :\n",
      "bias = 2.31517823125 and weight = 2.25552467375\n",
      "iteration 4 :\n",
      "bias = 2.80632902913375 and weight = 2.75681775195\n",
      "iteration 5 :\n",
      "bias = 3.211675282981042 and weight = 3.1705338539219485\n",
      "iteration 6 :\n",
      "bias = 3.54620657803465 and weight = 3.5119727749872096\n",
      "iteration 7 :\n",
      "bias = 3.8222944669222594 and weight = 3.7937615111427534\n",
      "iteration 8 :\n",
      "bias = 4.050149150341165 and weight = 4.026321090367284\n",
      "iteration 9 :\n",
      "bias = 4.238197083070313 and weight = 4.218251962506165\n",
      "iteration 10 :\n",
      "bias = 4.393392598357044 and weight = 4.376652058528111\n",
      "iteration 11 :\n",
      "bias = 4.52147509102558 and weight = 4.507379284117992\n",
      "iteration 12 :\n",
      "bias = 4.6271812700854325 and weight = 4.615268155019052\n",
      "iteration 13 :\n",
      "bias = 4.7144203303085215 and weight = 4.704308585669841\n",
      "iteration 14 :\n",
      "bias = 4.786418520918537 and weight = 4.777793443044504\n",
      "iteration 15 :\n",
      "bias = 4.845838457789248 and weight = 4.838440322489115\n",
      "iteration 16 :\n",
      "bias = 4.894877591520314 and weight = 4.888492049032131\n",
      "iteration 17 :\n",
      "bias = 4.935349472907968 and weight = 4.929799620878837\n",
      "iteration 18 :\n",
      "bias = 4.968750821146278 and weight = 4.9638906624816554\n",
      "iteration 19 :\n",
      "bias = 4.99631687505543 and weight = 4.992025918697587\n",
      "iteration 20 :\n",
      "bias = 5.019067074319862 and weight = 5.015245879283088\n",
      "iteration 21 :\n",
      "bias = 5.03784276010634 and weight = 5.034409257979704\n"
     ]
    },
    {
     "data": {
      "image/png": "[encoded data removed]",
      "text/plain": [
       "<Figure size 576x432 with 1 Axes>"
      ]
     },
     "metadata": {
      "needs_background": "light"
     },
     "output_type": "display_data"
    }
   ],
   "source": [
    "estimated_weight, estimated_bias = gradient(X, Y,0.001,0.5,2000)"
   ]
  },
  {
   "cell_type": "code",
   "execution_count": 135,
   "metadata": {},
   "outputs": [
    {
     "data": {
      "text/html": [
       "<div>\n",
       "<style scoped>\n",
       "    .dataframe tbody tr th:only-of-type {\n",
       "        vertical-align: middle;\n",
       "    }\n",
       "\n",
       "    .dataframe tbody tr th {\n",
       "        vertical-align: top;\n",
       "    }\n",
       "\n",
       "    .dataframe thead th {\n",
       "        text-align: right;\n",
       "    }\n",
       "</style>\n",
       "<table border=\"1\" class=\"dataframe\">\n",
       "  <thead>\n",
       "    <tr style=\"text-align: right;\">\n",
       "      <th></th>\n",
       "      <th>R&amp;D Spend</th>\n",
       "      <th>Administration</th>\n",
       "      <th>Marketing Spend</th>\n",
       "      <th>State</th>\n",
       "      <th>Profit</th>\n",
       "    </tr>\n",
       "  </thead>\n",
       "  <tbody>\n",
       "    <tr>\n",
       "      <th>0</th>\n",
       "      <td>165349.20</td>\n",
       "      <td>136897.80</td>\n",
       "      <td>471784.10</td>\n",
       "      <td>New York</td>\n",
       "      <td>192261.83</td>\n",
       "    </tr>\n",
       "    <tr>\n",
       "      <th>1</th>\n",
       "      <td>162597.70</td>\n",
       "      <td>151377.59</td>\n",
       "      <td>443898.53</td>\n",
       "      <td>California</td>\n",
       "      <td>191792.06</td>\n",
       "    </tr>\n",
       "    <tr>\n",
       "      <th>2</th>\n",
       "      <td>153441.51</td>\n",
       "      <td>101145.55</td>\n",
       "      <td>407934.54</td>\n",
       "      <td>Florida</td>\n",
       "      <td>191050.39</td>\n",
       "    </tr>\n",
       "    <tr>\n",
       "      <th>3</th>\n",
       "      <td>144372.41</td>\n",
       "      <td>118671.85</td>\n",
       "      <td>383199.62</td>\n",
       "      <td>New York</td>\n",
       "      <td>182901.99</td>\n",
       "    </tr>\n",
       "    <tr>\n",
       "      <th>4</th>\n",
       "      <td>142107.34</td>\n",
       "      <td>91391.77</td>\n",
       "      <td>366168.42</td>\n",
       "      <td>Florida</td>\n",
       "      <td>166187.94</td>\n",
       "    </tr>\n",
       "  </tbody>\n",
       "</table>\n",
       "</div>"
      ],
      "text/plain": [
       "   R&D Spend  Administration  Marketing Spend       State     Profit\n",
       "0  165349.20       136897.80        471784.10    New York  192261.83\n",
       "1  162597.70       151377.59        443898.53  California  191792.06\n",
       "2  153441.51       101145.55        407934.54     Florida  191050.39\n",
       "3  144372.41       118671.85        383199.62    New York  182901.99\n",
       "4  142107.34        91391.77        366168.42     Florida  166187.94"
      ]
     },
     "execution_count": 135,
     "metadata": {},
     "output_type": "execute_result"
    }
   ],
   "source": [
    "dataset = pd.read_csv(\"50_Startups.csv\")\n",
    "dataset.head()"
   ]
  },
  {
   "cell_type": "code",
   "execution_count": 138,
   "metadata": {},
   "outputs": [],
   "source": [
    "y = dataset.iloc[:,-1].values   # profit"
   ]
  },
  {
   "cell_type": "code",
   "execution_count": 141,
   "metadata": {},
   "outputs": [
    {
     "data": {
      "text/plain": [
       "array([165349.2 , 162597.7 , 153441.51, 144372.41, 142107.34, 131876.9 ,\n",
       "       134615.46, 130298.13, 120542.52, 123334.88, 101913.08, 100671.96,\n",
       "        93863.75,  91992.39, 119943.24, 114523.61,  78013.11,  94657.16,\n",
       "        91749.16,  86419.7 ,  76253.86,  78389.47,  73994.56,  67532.53,\n",
       "        77044.01,  64664.71,  75328.87,  72107.6 ,  66051.52,  65605.48,\n",
       "        61994.48,  61136.38,  63408.86,  55493.95,  46426.07,  46014.02,\n",
       "        28663.76,  44069.95,  20229.59,  38558.51,  28754.33,  27892.92,\n",
       "        23640.93,  15505.73,  22177.74,   1000.23,   1315.46,      0.  ,\n",
       "          542.05,      0.  ])"
      ]
     },
     "execution_count": 141,
     "metadata": {},
     "output_type": "execute_result"
    }
   ],
   "source": [
    "X1 = dataset.iloc[:,0].values  # R and D\n",
    "X1"
   ]
  },
  {
   "cell_type": "code",
   "execution_count": 144,
   "metadata": {},
   "outputs": [
    {
     "data": {
      "text/plain": [
       "array([136897.8 , 151377.59, 101145.55, 118671.85,  91391.77,  99814.71,\n",
       "       147198.87, 145530.06, 148718.95, 108679.17, 110594.11,  91790.61,\n",
       "       127320.38, 135495.07, 156547.42, 122616.84, 121597.55, 145077.58,\n",
       "       114175.79, 153514.11, 113867.3 , 153773.43, 122782.75, 105751.03,\n",
       "        99281.34, 139553.16, 144135.98, 127864.55, 182645.56, 153032.06,\n",
       "       115641.28, 152701.92, 129219.61, 103057.49, 157693.92,  85047.44,\n",
       "       127056.21,  51283.14,  65947.93,  82982.09, 118546.05,  84710.77,\n",
       "        96189.63, 127382.3 , 154806.14, 124153.04, 115816.21, 135426.92,\n",
       "        51743.15, 116983.8 ])"
      ]
     },
     "execution_count": 144,
     "metadata": {},
     "output_type": "execute_result"
    }
   ],
   "source": [
    "X2 = dataset.iloc[:,1].values # administration\n",
    "X2"
   ]
  },
  {
   "cell_type": "code",
   "execution_count": 145,
   "metadata": {},
   "outputs": [],
   "source": [
    "def parameter(x1,x2,y):\n",
    "    X1_s = sum((x1)**2) - ((sum(x1)**2) / (len(x1)))\n",
    "    X2_s = sum((x2)**2) - ((sum(x2)**2) / (len(x2)))\n",
    "    X1X2 = sum(x1*x2) - ((sum(x1)*sum(x2))/ (len(x1)))\n",
    "    X1y = sum(x1*y) - sum(X1*y)/len(y)\n",
    "    X2y = sum(x2*y) - sum(X2*y)/len(y)\n",
    "    \n",
    "    mean_y = sum(y)/len(y)\n",
    "    mean_x1 = sum(x1)/len(y)\n",
    "    mean_x2 = sum(x2)/len(y)\n",
    "    \n",
    "    \n",
    "    \n",
    "    b_1 = ((X1_s)*(X2_s) - X1X2*X2y)/(X1_s*X2_s)-(X1X2)\n",
    "    b_2 = ((X2_s)*(X1_s) - X1X2*X1y)/(X1_s*X2_s)-(X1X2)\n",
    "    b_0 = mean_y - mean_x1*b_1 + mean_x2*b_2\n",
    "    \n",
    "    return b_1, b_2, b_0"
   ]
  },
  {
   "cell_type": "code",
   "execution_count": 147,
   "metadata": {},
   "outputs": [],
   "source": [
    "def y_pred(x1,x2,y):\n",
    "    b0,b1,b2 = parameter(x1,x2,y)\n",
    "    y_pred = b0 + b1*x1 + b2*x2\n",
    "    return(y_pred)"
   ]
  },
  {
   "cell_type": "markdown",
   "metadata": {},
   "source": [
    "# K-Means clustering\n"
   ]
  },
  {
   "cell_type": "code",
   "execution_count": 160,
   "metadata": {},
   "outputs": [],
   "source": [
    "# importing libraries\n",
    "from copy import deepcopy\n",
    "import numpy as np\n",
    "import pandas as pd\n",
    "import matplotlib.pyplot as plt\n"
   ]
  },
  {
   "cell_type": "code",
   "execution_count": 161,
   "metadata": {},
   "outputs": [
    {
     "data": {
      "text/html": [
       "<div>\n",
       "<style scoped>\n",
       "    .dataframe tbody tr th:only-of-type {\n",
       "        vertical-align: middle;\n",
       "    }\n",
       "\n",
       "    .dataframe tbody tr th {\n",
       "        vertical-align: top;\n",
       "    }\n",
       "\n",
       "    .dataframe thead th {\n",
       "        text-align: right;\n",
       "    }\n",
       "</style>\n",
       "<table border=\"1\" class=\"dataframe\">\n",
       "  <thead>\n",
       "    <tr style=\"text-align: right;\">\n",
       "      <th></th>\n",
       "      <th>V1</th>\n",
       "      <th>V2</th>\n",
       "    </tr>\n",
       "  </thead>\n",
       "  <tbody>\n",
       "    <tr>\n",
       "      <th>0</th>\n",
       "      <td>2.072345</td>\n",
       "      <td>-3.241693</td>\n",
       "    </tr>\n",
       "    <tr>\n",
       "      <th>1</th>\n",
       "      <td>17.936710</td>\n",
       "      <td>15.784810</td>\n",
       "    </tr>\n",
       "    <tr>\n",
       "      <th>2</th>\n",
       "      <td>1.083576</td>\n",
       "      <td>7.319176</td>\n",
       "    </tr>\n",
       "    <tr>\n",
       "      <th>3</th>\n",
       "      <td>11.120670</td>\n",
       "      <td>14.406780</td>\n",
       "    </tr>\n",
       "    <tr>\n",
       "      <th>4</th>\n",
       "      <td>23.711550</td>\n",
       "      <td>2.557729</td>\n",
       "    </tr>\n",
       "  </tbody>\n",
       "</table>\n",
       "</div>"
      ],
      "text/plain": [
       "          V1         V2\n",
       "0   2.072345  -3.241693\n",
       "1  17.936710  15.784810\n",
       "2   1.083576   7.319176\n",
       "3  11.120670  14.406780\n",
       "4  23.711550   2.557729"
      ]
     },
     "execution_count": 161,
     "metadata": {},
     "output_type": "execute_result"
    }
   ],
   "source": [
    "# Importing the dataset\n",
    "data = pd.read_csv('xclara.csv')\n",
    "\n",
    "data.head()"
   ]
  },
  {
   "cell_type": "code",
   "execution_count": 171,
   "metadata": {},
   "outputs": [
    {
     "data": {
      "image/png": "[encoded data removed]",
      "text/plain": [
       "<Figure size 432x288 with 1 Axes>"
      ]
     },
     "metadata": {
      "needs_background": "light"
     },
     "output_type": "display_data"
    }
   ],
   "source": [
    "# Getting the values and plotting it\n",
    "f1 = data['V1'].values\n",
    "f2 = data['V2'].values\n",
    "X = np.array(list(zip(f1, f2)))\n",
    "plt.scatter(f1, f2, c='blue',s=4)\n",
    "plt.title(\"Data plot\")\n",
    "plt.xlabel(\"X cordinate\")\n",
    "plt.ylabel(\"Y cordinate\")\n",
    "\n",
    "plt.show()\n"
   ]
  },
  {
   "cell_type": "code",
   "execution_count": 196,
   "metadata": {},
   "outputs": [],
   "source": [
    "# Euclidean Distance Caculator\n",
    "def dist(a, b, ax=1):\n",
    "    return np.linalg.norm(a - b, axis=ax)"
   ]
  },
  {
   "cell_type": "code",
   "execution_count": 197,
   "metadata": {},
   "outputs": [],
   "source": [
    "k = 3"
   ]
  },
  {
   "cell_type": "code",
   "execution_count": 198,
   "metadata": {},
   "outputs": [
    {
     "data": {
      "text/plain": [
       "array([[49, 78],\n",
       "       [76, 71],\n",
       "       [20,  5]])"
      ]
     },
     "execution_count": 198,
     "metadata": {},
     "output_type": "execute_result"
    }
   ],
   "source": [
    "C_x = np.random.randint(0,np.max(X)-20,size = k)\n",
    "C_y = np.random.randint(0,np.max(X)-20,size = k)\n",
    "C = np.array(list(zip(C_x,C_y)))\n",
    "C"
   ]
  },
  {
   "cell_type": "code",
   "execution_count": 199,
   "metadata": {},
   "outputs": [
    {
     "data": {
      "image/png": "[encoded data removed]",
      "text/plain": [
       "<Figure size 432x288 with 1 Axes>"
      ]
     },
     "metadata": {
      "needs_background": "light"
     },
     "output_type": "display_data"
    }
   ],
   "source": [
    "# plotting the graph with centroids \n",
    "plt.scatter(f1,f2,color = \"blue\",s=4)\n",
    "plt.scatter(C_x,C_y,color = \"red\",s=40)\n",
    "plt.title(\"With random centroids\")\n",
    "plt.xlabel(\"X cordinates\")\n",
    "plt.ylabel(\"Y cordinates\")\n",
    "\n",
    "plt.show()"
   ]
  },
  {
   "cell_type": "code",
   "execution_count": 208,
   "metadata": {},
   "outputs": [
    {
     "data": {
      "text/plain": [
       "<matplotlib.collections.PathCollection at 0x1e0b3f26410>"
      ]
     },
     "execution_count": 208,
     "metadata": {},
     "output_type": "execute_result"
    },
    {
     "data": {
      "image/png": "[encoded data removed]",
      "text/plain": [
       "<Figure size 432x288 with 1 Axes>"
      ]
     },
     "metadata": {
      "needs_background": "light"
     },
     "output_type": "display_data"
    }
   ],
   "source": [
    "\n",
    "\n",
    "# To store the value of centroids when it updates\n",
    "C_old = np.zeros(C.shape)\n",
    "# Cluster Lables(0, 1, 2)\n",
    "clusters = np.zeros(len(X))\n",
    "# Error func. - Distance between new centroids and old centroids\n",
    "error = dist(C, C_old, None)\n",
    "# Loop will run till the error becomes zero\n",
    "while error != 0:\n",
    "    # Assigning each value to its closest cluster\n",
    "    for i in range(len(X)):\n",
    "        distances = dist(X[i], C)\n",
    "        cluster = np.argmin(distances)\n",
    "        clusters[i] = cluster\n",
    "    # Storing the old centroid values\n",
    "    C_old = deepcopy(C)\n",
    "    # Finding the new centroids by taking the average value\n",
    "    for i in range(k):\n",
    "        points = [X[j] for j in range(len(X)) if clusters[j] == i]\n",
    "        C[i] = np.mean(points, axis=0)\n",
    "    error = dist(C, C_old, None)\n",
    "\n",
    "colors = ['r', 'g', 'b', 'y', 'c', 'm']\n",
    "fig, ax = plt.subplots()\n",
    "for i in range(k):\n",
    "        points = np.array([X[j] for j in range(len(X)) if clusters[j] == i])\n",
    "        ax.scatter(points[:, 0], points[:, 1],c=colors[i],s=4)\n",
    "ax.scatter(C[:, 0], C[:, 1], marker='*',color='black',s=40)\n"
   ]
  }
 ],
 "metadata": {
  "kernelspec": {
   "display_name": "Python 3.10.5 64-bit",
   "language": "python",
   "name": "python3"
  },
  "language_info": {
   "codemirror_mode": {
    "name": "ipython",
    "version": 3
   },
   "file_extension": ".py",
   "mimetype": "text/x-python",
   "name": "python",
   "nbconvert_exporter": "python",
   "pygments_lexer": "ipython3",
   "version": "3.10.5"
  },
  "orig_nbformat": 4,
  "vscode": {
   "interpreter": {
    "hash": "e2611f44f806f6d4bdec6164674388ade8a86ad4e81af7ef1563613438bedb91"
   }
  }
 },
 "nbformat": 4,
 "nbformat_minor": 2
}
